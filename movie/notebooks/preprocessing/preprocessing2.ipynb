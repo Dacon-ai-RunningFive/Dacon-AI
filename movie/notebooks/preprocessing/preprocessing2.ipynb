{
 "cells": [
  {
   "cell_type": "code",
   "execution_count": null,
   "metadata": {},
   "outputs": [],
   "source": [
    "import pandas as pd\n",
    "import numpy as np"
   ]
  },
  {
   "cell_type": "code",
   "execution_count": null,
   "metadata": {},
   "outputs": [],
   "source": [
    "m = pd.read_csv(\"../../data/processed/KOBIS_개봉일람_2.csv\")\n",
    "\n",
    "m"
   ]
  },
  {
   "cell_type": "code",
   "execution_count": null,
   "metadata": {},
   "outputs": [],
   "source": [
    "m1 = m[[\"전국 관객수\"]].groupby(m[\"감독\"]).sum()\n",
    "m1.loc[m1[\"전국 관객수\"] == 0, \"전국 관객수\"] = 1\n",
    "m1 = m1.apply(np.log).reset_index()\n",
    "m1.rename(columns={\"전국 관객수\":\"감독_로그\"}, inplace=True)\n",
    "m1"
   ]
  },
  {
   "cell_type": "code",
   "execution_count": null,
   "metadata": {},
   "outputs": [],
   "source": [
    "m = pd.merge(m, m1, how=\"left\", left_on=\"감독\", right_on=\"감독\")\n",
    "m"
   ]
  },
  {
   "cell_type": "code",
   "execution_count": null,
   "metadata": {},
   "outputs": [],
   "source": [
    "m1 = m[[\"전국 관객수\"]].groupby(m[\"제작사\"]).sum()\n",
    "m1.loc[m1[\"전국 관객수\"] == 0, \"전국 관객수\"] = 1\n",
    "m1 = m1.apply(np.log).reset_index()\n",
    "m1.rename(columns={\"전국 관객수\":\"제작사_로그\"}, inplace=True)\n",
    "m1"
   ]
  },
  {
   "cell_type": "code",
   "execution_count": null,
   "metadata": {},
   "outputs": [],
   "source": [
    "m = pd.merge(m, m1, how=\"left\", left_on=\"제작사\", right_on=\"제작사\")\n",
    "m"
   ]
  },
  {
   "cell_type": "code",
   "execution_count": null,
   "metadata": {},
   "outputs": [],
   "source": [
    "m1 = m[[\"전국 스크린수\"]].groupby(m[\"배급사\"]).sum()\n",
    "m1.loc[m1[\"전국 스크린수\"] == 0, \"전국 스크린수\"] = 1\n",
    "m1 = m1.apply(np.log).reset_index()\n",
    "m1.rename(columns={\"전국 스크린수\":\"배급사_로그\"}, inplace=True)\n",
    "m1"
   ]
  },
  {
   "cell_type": "code",
   "execution_count": null,
   "metadata": {},
   "outputs": [],
   "source": [
    "m = pd.merge(m, m1, how=\"left\", left_on=\"배급사\", right_on=\"배급사\")\n",
    "m"
   ]
  },
  {
   "cell_type": "code",
   "execution_count": null,
   "metadata": {},
   "outputs": [],
   "source": [
    "m.to_csv(\"../../data/processed/KOBIS_개봉일람_3.csv\", index=False)"
   ]
  }
 ],
 "metadata": {
  "language_info": {
   "name": "python"
  },
  "orig_nbformat": 4
 },
 "nbformat": 4,
 "nbformat_minor": 2
}
